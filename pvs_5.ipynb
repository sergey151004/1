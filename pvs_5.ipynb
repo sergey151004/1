{
  "nbformat": 4,
  "nbformat_minor": 0,
  "metadata": {
    "colab": {
      "provenance": [],
      "gpuType": "T4",
      "include_colab_link": true
    },
    "kernelspec": {
      "name": "python3",
      "display_name": "Python 3"
    },
    "language_info": {
      "name": "python"
    },
    "accelerator": "GPU"
  },
  "cells": [
    {
      "cell_type": "markdown",
      "metadata": {
        "id": "view-in-github",
        "colab_type": "text"
      },
      "source": [
        "<a href=\"https://colab.research.google.com/github/sergey151004/1/blob/main/pvs_5.ipynb\" target=\"_parent\"><img src=\"https://colab.research.google.com/assets/colab-badge.svg\" alt=\"Open In Colab\"/></a>"
      ]
    },
    {
      "cell_type": "code",
      "execution_count": 13,
      "metadata": {
        "colab": {
          "base_uri": "https://localhost:8080/"
        },
        "id": "G1VgSEUZ4Sdj",
        "outputId": "49140b93-4518-4d72-d5bf-4def1a46b518"
      },
      "outputs": [
        {
          "output_type": "stream",
          "name": "stdout",
          "text": [
            "Reading package lists... Done\n",
            "Building dependency tree... Done\n",
            "Reading state information... Done\n",
            "nvidia-cuda-toolkit is already the newest version (11.5.1-1ubuntu1).\n",
            "0 upgraded, 0 newly installed, 0 to remove and 38 not upgraded.\n"
          ]
        }
      ],
      "source": [
        "!apt install nvidia-cuda-toolkit"
      ]
    },
    {
      "cell_type": "code",
      "source": [
        "%%writefile integral.cu\n",
        "#include <stdio.h>\n",
        "#include <math.h>\n",
        "#include <chrono>\n",
        "\n",
        "#define PI 3.14159265358979323846\n",
        "\n",
        "// Оригинальная сложная функция для интегрирования\n",
        "__device__ double ComputeOriginalFunction(double x) {\n",
        "  if (x < 1e-10 || x > PI - 1e-10) return 0.0;\n",
        "  double sin_x = sin(x);\n",
        "  if (fabs(sin_x) < 1e-12) return 0.0;\n",
        "  double cot_x = cos(x) / sin_x;\n",
        "  double sin_term = 1.0 + sin_x;\n",
        "  if (sin_term < 1e-12) return 0.0;\n",
        "  double ln_term = log(sin_term);\n",
        "  double sin_ln_term = sin(sin_term);\n",
        "  double denominator = ln_term * sin_ln_term;\n",
        "  if (fabs(denominator) < 1e-100) return 0.0;\n",
        "  return cot_x / denominator;\n",
        "}\n",
        "\n",
        "__global__ void ComputeAndReduce(double a, double dx, int n, double* result) {\n",
        "  int idx = blockIdx.x * blockDim.x + threadIdx.x;\n",
        "  double sum = 0.0;\n",
        "  if (idx < n) {\n",
        "    double x = a + (idx + 0.5) * dx;\n",
        "    sum = ComputeOriginalFunction(x);\n",
        "  }\n",
        "\n",
        "  extern __shared__ double sdata[];\n",
        "  int tid = threadIdx.x;\n",
        "  sdata[tid] = sum;\n",
        "  __syncthreads();\n",
        "\n",
        "  for (int s = blockDim.x / 2; s > 0; s >>= 1) {\n",
        "    if (tid < s) {\n",
        "      sdata[tid] += sdata[tid + s];\n",
        "    }\n",
        "    __syncthreads();\n",
        "  }\n",
        "\n",
        "  if (tid == 0) {\n",
        "    result[blockIdx.x] = sdata[0];\n",
        "  }\n",
        "}\n",
        "\n",
        "__global__ void ReduceSum(double* input, double* output, int n) {\n",
        "  extern __shared__ double sdata[];\n",
        "  int tid = threadIdx.x;\n",
        "  int i = blockIdx.x * blockDim.x + tid;\n",
        "  sdata[tid] = (i < n) ? input[i] : 0.0;\n",
        "  __syncthreads();\n",
        "\n",
        "  for (int s = blockDim.x / 2; s > 0; s >>= 1) {\n",
        "    if (tid < s) {\n",
        "      sdata[tid] += sdata[tid + s];\n",
        "    }\n",
        "    __syncthreads();\n",
        "  }\n",
        "\n",
        "  if (tid == 0) {\n",
        "    output[blockIdx.x] = sdata[0];\n",
        "  }\n",
        "}\n",
        "\n",
        "double ComputeIntegral(double a, double b, int n, double* compute_time) {\n",
        "  cudaEvent_t start, stop;\n",
        "  cudaEventCreate(&start);\n",
        "  cudaEventCreate(&stop);\n",
        "\n",
        "  cudaEventRecord(start);\n",
        "\n",
        "  double dx = (b - a) / n;\n",
        "  int threads = 256;\n",
        "  int blocks = (n + threads - 1) / threads;\n",
        "\n",
        "  double* d_partial_sums;\n",
        "  cudaMalloc(&d_partial_sums, sizeof(double) * blocks);\n",
        "\n",
        "  ComputeAndReduce<<<blocks, threads, threads * sizeof(double)>>>(a, dx, n, d_partial_sums);\n",
        "\n",
        "  cudaError_t err = cudaGetLastError();\n",
        "  if (err != cudaSuccess) {\n",
        "    printf(\"CUDA error: %s\\n\", cudaGetErrorString(err));\n",
        "    return NAN;\n",
        "  }\n",
        "\n",
        "  int n_blocks = blocks;\n",
        "  double* d_sum = d_partial_sums;\n",
        "  double* d_temp;\n",
        "  while (n_blocks > 1) {\n",
        "    int n_threads = threads;\n",
        "    int n_blocks_new = (n_blocks + n_threads - 1) / n_threads;\n",
        "    cudaMalloc(&d_temp, sizeof(double) * n_blocks_new);\n",
        "    ReduceSum<<<n_blocks_new, n_threads, n_threads * sizeof(double)>>>(d_sum, d_temp, n_blocks);\n",
        "    cudaFree(d_sum);\n",
        "    d_sum = d_temp;\n",
        "    n_blocks = n_blocks_new;\n",
        "  }\n",
        "\n",
        "  double total_sum;\n",
        "  cudaMemcpy(&total_sum, d_sum, sizeof(double), cudaMemcpyDeviceToHost);\n",
        "  double integral = total_sum * dx;\n",
        "\n",
        "  cudaEventRecord(stop);\n",
        "  cudaEventSynchronize(stop);\n",
        "  float milliseconds = 0;\n",
        "  cudaEventElapsedTime(&milliseconds, start, stop);\n",
        "  *compute_time = milliseconds / 1000.0; // Convert to seconds\n",
        "\n",
        "  cudaFree(d_sum);\n",
        "  cudaEventDestroy(start);\n",
        "  cudaEventDestroy(stop);\n",
        "\n",
        "  return integral;\n",
        "}\n",
        "\n",
        "int main() {\n",
        "  double a = 0.1;\n",
        "  double b = PI - 0.1;\n",
        "  int n = 100000000;\n",
        "\n",
        "  double compute_time = 0.0;\n",
        "  double integral = ComputeIntegral(a, b, n, &compute_time);\n",
        "\n",
        "  printf(\"============ INTEGRATION RESULTS ============\\n\");\n",
        "  printf(\"Integral value:    %.12f\\n\", integral);\n",
        "  printf(\"Absolute error:    %.3e\\n\", fabs(integral));\n",
        "  printf(\"Computation time:  %.3f seconds\\n\", compute_time);\n",
        "  printf(\"\\n\");\n",
        "  printf(\"Parameters:\\n\");\n",
        "  printf(\"  Interval:       [%.3f, %.3f]\\n\", a, b);\n",
        "  printf(\"  Length:         %.5f\\n\", b - a);\n",
        "  printf(\"  Segments:       %d\\n\", n);\n",
        "  printf(\"  Points:         %.0f million\\n\", n / 1e6);\n",
        "  printf(\"  Symmetric mode: %s\\n\", \"false\");\n",
        "  printf(\"============================================\\n\");\n",
        "\n",
        "  double points_per_second = n / compute_time;\n",
        "  printf(\"\\nPerformance metrics:\\n\");\n",
        "  printf(\"  Throughput:      %.1f million points/second\\n\", points_per_second / 1e6);\n",
        "  printf(\"  Time per point:  %.3f nanoseconds\\n\", (compute_time * 1e9) / n);\n",
        "\n",
        "  return 0;\n",
        "}\n"
      ],
      "metadata": {
        "colab": {
          "base_uri": "https://localhost:8080/"
        },
        "id": "l5w0bbPL4b1I",
        "outputId": "c9b6013c-c864-498f-b325-4048573102dc"
      },
      "execution_count": 14,
      "outputs": [
        {
          "output_type": "stream",
          "name": "stdout",
          "text": [
            "Overwriting integral.cu\n"
          ]
        }
      ]
    },
    {
      "cell_type": "code",
      "source": [
        "!nvcc -arch=sm_75 -o integral integral.cu"
      ],
      "metadata": {
        "id": "bUjg2-GX4gJK"
      },
      "execution_count": 15,
      "outputs": []
    },
    {
      "cell_type": "code",
      "source": [
        "!./integral"
      ],
      "metadata": {
        "id": "nzE7EvBB4iUs",
        "outputId": "1580c5ee-2512-4132-d807-6e6870b4e9dd",
        "colab": {
          "base_uri": "https://localhost:8080/"
        }
      },
      "execution_count": 16,
      "outputs": [
        {
          "output_type": "stream",
          "name": "stdout",
          "text": [
            "============ INTEGRATION RESULTS ============\n",
            "Integral value:    0.000000000000\n",
            "Absolute error:    2.751e-14\n",
            "Computation time:  0.375 seconds\n",
            "\n",
            "Parameters:\n",
            "  Interval:       [0.100, 3.042]\n",
            "  Length:         2.94159\n",
            "  Segments:       100000000\n",
            "  Points:         100 million\n",
            "  Symmetric mode: true\n",
            "============================================\n",
            "\n",
            "Performance metrics:\n",
            "  Throughput:      266.6 million points/second\n",
            "  Time per point:  3.751 nanoseconds\n"
          ]
        }
      ]
    }
  ]
}